{
 "cells": [
  {
   "cell_type": "markdown",
   "id": "ccb16e29",
   "metadata": {},
   "source": [
    "# Content\n",
    "\n",
    "1. Importing libraries and data\n",
    "2. Customer Profiling\n",
    "    a. Age grouping\n",
    "    b. Income grouping\n",
    "    c. Dependent grouping\n",
    "3. Unique Variables in Department Column\n",
    "4. Time of day breakdown\n",
    "5. Additional visualizations and analysis\n",
    "6. Exporting Final Data Set & Visualizations"
   ]
  },
  {
   "cell_type": "markdown",
   "id": "28e4c8cf",
   "metadata": {},
   "source": [
    "### Import Libraries"
   ]
  },
  {
   "cell_type": "code",
   "execution_count": 1,
   "id": "28c9ab8f",
   "metadata": {},
   "outputs": [],
   "source": [
    "import pandas as pd\n",
    "import numpy as np\n",
    "import os\n",
    "import matplotlib.pyplot as plt\n",
    "import seaborn as sns\n",
    "import scipy"
   ]
  },
  {
   "cell_type": "markdown",
   "id": "9f58ea4e",
   "metadata": {},
   "source": [
    "## Import Data"
   ]
  },
  {
   "cell_type": "code",
   "execution_count": 2,
   "id": "837a9f40",
   "metadata": {},
   "outputs": [],
   "source": [
    "# define path\n",
    "\n",
    "path = r'C:\\Users\\13526\\Documents\\Instacart Basket Analysis'"
   ]
  },
  {
   "cell_type": "code",
   "execution_count": 5,
   "id": "fa27435a",
   "metadata": {},
   "outputs": [],
   "source": [
    "df3 = pd.read_pickle(os.path.join(path, '02 Data','Prepared Data', 'reg_activity_customers.pkl'))"
   ]
  },
  {
   "cell_type": "markdown",
   "id": "b713dc10",
   "metadata": {},
   "source": [
    "### Customer Profiling"
   ]
  },
  {
   "cell_type": "markdown",
   "id": "58f620ae",
   "metadata": {},
   "source": [
    "The following data manipulations will be using the new df3 data frame that contains only \\\"regular activity customers,\\\" which is defined by having >= 5 orders."
   ]
  },
  {
   "cell_type": "code",
   "execution_count": 7,
   "id": "83d8cfef",
   "metadata": {},
   "outputs": [
    {
     "data": {
      "text/plain": [
       "2    12190559\n",
       "3    11066662\n",
       "1     9145936\n",
       "Name: age_range, dtype: int64"
      ]
     },
     "execution_count": 7,
     "metadata": {},
     "output_type": "execute_result"
    }
   ],
   "source": [
    "# using .loc to create a profiling variable based on age of customers\n",
    "\n",
    "df3.loc[(df3['age'] >= 18) & (df3['age'] <= 35), 'age_range'] = '1'\n",
    "df3.loc[(df3['age'] > 35) & (df3['age'] < 60), 'age_range'] = '2'\n",
    "df3.loc[(df3['age'] >= 60), 'age_range'] = '3'\n",
    "df3['age_range'].value_counts()"
   ]
  },
  {
   "cell_type": "markdown",
   "id": "17d99ee2",
   "metadata": {},
   "source": [
    "Most customers are between 36 and 59 years old and fall into the \\\"Adult\\\" age range.\n",
    "The Senior age range of older than 60 accounts for the least amount of customers"
   ]
  },
  {
   "cell_type": "markdown",
   "id": "c5f5c720",
   "metadata": {},
   "source": [
    "### Income Grouping\n",
    "- Less than 50,000 = Low Income\n",
    "- Between 50,000 & 120,000 = Middle Income\n",
    "- Above 120,000 = High Income"
   ]
  },
  {
   "cell_type": "code",
   "execution_count": 10,
   "id": "c20d934d",
   "metadata": {},
   "outputs": [
    {
     "data": {
      "text/plain": [
       "Middle Income    19239113\n",
       "High Income       9570916\n",
       "Low Income        3593128\n",
       "Name: income_flag, dtype: int64"
      ]
     },
     "execution_count": 10,
     "metadata": {},
     "output_type": "execute_result"
    }
   ],
   "source": [
    "# create income flags\n",
    "\n",
    "df3.loc[df3['income']<50000, 'income_flag'] = 'Low Income'\n",
    "df3.loc[(df3['income']>=50000) & (df3['income']<=120000), 'income_flag'] = 'Middle Income'\n",
    "df3.loc[df3['income']>120000, 'income_flag'] = 'High Income'\n",
    "df3['income_flag'].value_counts(dropna = False)"
   ]
  },
  {
   "cell_type": "markdown",
   "id": "32610e46",
   "metadata": {},
   "source": [
    "The majority of customers fall within the Middle Income bracket making between 50,000 and 120,000."
   ]
  },
  {
   "cell_type": "markdown",
   "id": "aa587cfe",
   "metadata": {},
   "source": [
    "## Dependent Grouping \n",
    "- Customers with 0 dependents = no dependents \n",
    "- Customers with 1 or more dependents = has dependent"
   ]
  },
  {
   "cell_type": "code",
   "execution_count": 13,
   "id": "ddc283d1",
   "metadata": {},
   "outputs": [],
   "source": [
    "# Create flags for customers with no dependants \n",
    "\n",
    "df3.loc[df3['#_of_dependants']== 0, 'dependent_flag'] = 'No Dependents'\n",
    "df3.loc[df3['#_of_dependants'] > 0, 'dependent_flag'] = 'Has Dependent'"
   ]
  },
  {
   "cell_type": "code",
   "execution_count": 15,
   "id": "95d6f4ca",
   "metadata": {},
   "outputs": [
    {
     "data": {
      "text/plain": [
       "Has Dependent    24306052\n",
       "No Dependents     8097105\n",
       "Name: dependent_flag, dtype: int64"
      ]
     },
     "execution_count": 15,
     "metadata": {},
     "output_type": "execute_result"
    }
   ],
   "source": [
    "# Check values of column\n",
    "\n",
    "df3['dependent_flag'].value_counts()"
   ]
  },
  {
   "cell_type": "code",
   "execution_count": 17,
   "id": "38ba8667",
   "metadata": {},
   "outputs": [
    {
     "data": {
      "text/html": [
       "<div>\n",
       "<style scoped>\n",
       "    .dataframe tbody tr th:only-of-type {\n",
       "        vertical-align: middle;\n",
       "    }\n",
       "\n",
       "    .dataframe tbody tr th {\n",
       "        vertical-align: top;\n",
       "    }\n",
       "\n",
       "    .dataframe thead tr th {\n",
       "        text-align: left;\n",
       "    }\n",
       "\n",
       "    .dataframe thead tr:last-of-type th {\n",
       "        text-align: right;\n",
       "    }\n",
       "</style>\n",
       "<table border=\"1\" class=\"dataframe\">\n",
       "  <thead>\n",
       "    <tr>\n",
       "      <th></th>\n",
       "      <th colspan=\"3\" halign=\"left\">prices</th>\n",
       "    </tr>\n",
       "    <tr>\n",
       "      <th></th>\n",
       "      <th>mean</th>\n",
       "      <th>min</th>\n",
       "      <th>max</th>\n",
       "    </tr>\n",
       "    <tr>\n",
       "      <th>dependent_flag</th>\n",
       "      <th></th>\n",
       "      <th></th>\n",
       "      <th></th>\n",
       "    </tr>\n",
       "  </thead>\n",
       "  <tbody>\n",
       "    <tr>\n",
       "      <th>Has Dependent</th>\n",
       "      <td>11.930823</td>\n",
       "      <td>1.0</td>\n",
       "      <td>99999.0</td>\n",
       "    </tr>\n",
       "    <tr>\n",
       "      <th>No Dependents</th>\n",
       "      <td>12.117107</td>\n",
       "      <td>1.0</td>\n",
       "      <td>99999.0</td>\n",
       "    </tr>\n",
       "  </tbody>\n",
       "</table>\n",
       "</div>"
      ],
      "text/plain": [
       "                   prices              \n",
       "                     mean  min      max\n",
       "dependent_flag                         \n",
       "Has Dependent   11.930823  1.0  99999.0\n",
       "No Dependents   12.117107  1.0  99999.0"
      ]
     },
     "execution_count": 17,
     "metadata": {},
     "output_type": "execute_result"
    }
   ],
   "source": [
    "# aggregate dependent expenditure\n",
    "\n",
    "df3.groupby('dependent_flag').agg({'prices': ['mean', 'min', 'max']})"
   ]
  },
  {
   "cell_type": "markdown",
   "id": "a81c3aac",
   "metadata": {},
   "source": [
    "It appears that there isn't much difference between the expenditure of customers with or without dependents. Customers with no dependents spend slightly more on average."
   ]
  },
  {
   "cell_type": "markdown",
   "id": "37c0dc35",
   "metadata": {},
   "source": [
    "### Unique Variables in department column"
   ]
  },
  {
   "cell_type": "code",
   "execution_count": 18,
   "id": "7300d7b8",
   "metadata": {},
   "outputs": [],
   "source": [
    "# Import department\n",
    "\n",
    "dep=pd.read_csv(os.path.join(path, '02 Data', 'Prepared Data', 'departments_wrangled.csv'),index_col=False)"
   ]
  },
  {
   "cell_type": "code",
   "execution_count": 19,
   "id": "9102f7ce",
   "metadata": {},
   "outputs": [
    {
     "data": {
      "text/plain": [
       "{1: 'frozen',\n",
       " 2: 'other',\n",
       " 3: 'bakery',\n",
       " 4: 'produce',\n",
       " 5: 'alcohol',\n",
       " 6: 'international',\n",
       " 7: 'beverages',\n",
       " 8: 'pets',\n",
       " 9: 'dry goods pasta',\n",
       " 10: 'bulk',\n",
       " 11: 'personal care',\n",
       " 12: 'meat seafood',\n",
       " 13: 'pantry',\n",
       " 14: 'breakfast',\n",
       " 15: 'canned goods',\n",
       " 16: 'dairy eggs',\n",
       " 17: 'household',\n",
       " 18: 'babies',\n",
       " 19: 'snacks',\n",
       " 20: 'deli',\n",
       " 21: 'missing'}"
      ]
     },
     "execution_count": 19,
     "metadata": {},
     "output_type": "execute_result"
    }
   ],
   "source": [
    "# Create data dictionary for department id\n",
    "\n",
    "zipped=zip(dep['Unnamed: 0'], dep['department'])\n",
    "data_dict=dict(zipped)\n",
    "data_dict"
   ]
  },
  {
   "cell_type": "code",
   "execution_count": 20,
   "id": "60548d9b",
   "metadata": {},
   "outputs": [
    {
     "data": {
      "text/html": [
       "<div>\n",
       "<style scoped>\n",
       "    .dataframe tbody tr th:only-of-type {\n",
       "        vertical-align: middle;\n",
       "    }\n",
       "\n",
       "    .dataframe tbody tr th {\n",
       "        vertical-align: top;\n",
       "    }\n",
       "\n",
       "    .dataframe thead th {\n",
       "        text-align: right;\n",
       "    }\n",
       "</style>\n",
       "<table border=\"1\" class=\"dataframe\">\n",
       "  <thead>\n",
       "    <tr style=\"text-align: right;\">\n",
       "      <th></th>\n",
       "      <th>product_id</th>\n",
       "      <th>product_name</th>\n",
       "      <th>department_id</th>\n",
       "      <th>prices</th>\n",
       "      <th>order_id</th>\n",
       "      <th>customer_id</th>\n",
       "      <th>order_number</th>\n",
       "      <th>orders_day_of_week</th>\n",
       "      <th>order_hour_of_day</th>\n",
       "      <th>days_since_prior_order</th>\n",
       "      <th>...</th>\n",
       "      <th>marital_status</th>\n",
       "      <th>income</th>\n",
       "      <th>Region</th>\n",
       "      <th>Total_orders</th>\n",
       "      <th>Activity_flag</th>\n",
       "      <th>age_range</th>\n",
       "      <th>income_flag</th>\n",
       "      <th>Income_flag</th>\n",
       "      <th>dependent_flag</th>\n",
       "      <th>department</th>\n",
       "    </tr>\n",
       "  </thead>\n",
       "  <tbody>\n",
       "    <tr>\n",
       "      <th>0</th>\n",
       "      <td>1</td>\n",
       "      <td>Chocolate Sandwich Cookies</td>\n",
       "      <td>19</td>\n",
       "      <td>5.8</td>\n",
       "      <td>3139998</td>\n",
       "      <td>138</td>\n",
       "      <td>28</td>\n",
       "      <td>6</td>\n",
       "      <td>11</td>\n",
       "      <td>3.000000</td>\n",
       "      <td>...</td>\n",
       "      <td>married</td>\n",
       "      <td>49620</td>\n",
       "      <td>Midwest</td>\n",
       "      <td>148</td>\n",
       "      <td>Regular Activity</td>\n",
       "      <td>3</td>\n",
       "      <td>Low Income</td>\n",
       "      <td>NaN</td>\n",
       "      <td>Has Dependent</td>\n",
       "      <td>snacks</td>\n",
       "    </tr>\n",
       "    <tr>\n",
       "      <th>1</th>\n",
       "      <td>1</td>\n",
       "      <td>Chocolate Sandwich Cookies</td>\n",
       "      <td>19</td>\n",
       "      <td>5.8</td>\n",
       "      <td>1977647</td>\n",
       "      <td>138</td>\n",
       "      <td>30</td>\n",
       "      <td>6</td>\n",
       "      <td>17</td>\n",
       "      <td>20.000000</td>\n",
       "      <td>...</td>\n",
       "      <td>married</td>\n",
       "      <td>49620</td>\n",
       "      <td>Midwest</td>\n",
       "      <td>148</td>\n",
       "      <td>Regular Activity</td>\n",
       "      <td>3</td>\n",
       "      <td>Low Income</td>\n",
       "      <td>NaN</td>\n",
       "      <td>Has Dependent</td>\n",
       "      <td>snacks</td>\n",
       "    </tr>\n",
       "    <tr>\n",
       "      <th>2</th>\n",
       "      <td>907</td>\n",
       "      <td>Premium Sliced Bacon</td>\n",
       "      <td>12</td>\n",
       "      <td>20.0</td>\n",
       "      <td>3160996</td>\n",
       "      <td>138</td>\n",
       "      <td>1</td>\n",
       "      <td>5</td>\n",
       "      <td>13</td>\n",
       "      <td>1.110352</td>\n",
       "      <td>...</td>\n",
       "      <td>married</td>\n",
       "      <td>49620</td>\n",
       "      <td>Midwest</td>\n",
       "      <td>148</td>\n",
       "      <td>Regular Activity</td>\n",
       "      <td>3</td>\n",
       "      <td>Low Income</td>\n",
       "      <td>NaN</td>\n",
       "      <td>Has Dependent</td>\n",
       "      <td>meat seafood</td>\n",
       "    </tr>\n",
       "    <tr>\n",
       "      <th>3</th>\n",
       "      <td>907</td>\n",
       "      <td>Premium Sliced Bacon</td>\n",
       "      <td>12</td>\n",
       "      <td>20.0</td>\n",
       "      <td>2254091</td>\n",
       "      <td>138</td>\n",
       "      <td>10</td>\n",
       "      <td>5</td>\n",
       "      <td>14</td>\n",
       "      <td>6.000000</td>\n",
       "      <td>...</td>\n",
       "      <td>married</td>\n",
       "      <td>49620</td>\n",
       "      <td>Midwest</td>\n",
       "      <td>148</td>\n",
       "      <td>Regular Activity</td>\n",
       "      <td>3</td>\n",
       "      <td>Low Income</td>\n",
       "      <td>NaN</td>\n",
       "      <td>Has Dependent</td>\n",
       "      <td>meat seafood</td>\n",
       "    </tr>\n",
       "    <tr>\n",
       "      <th>4</th>\n",
       "      <td>1000</td>\n",
       "      <td>Apricots</td>\n",
       "      <td>10</td>\n",
       "      <td>12.9</td>\n",
       "      <td>505689</td>\n",
       "      <td>138</td>\n",
       "      <td>9</td>\n",
       "      <td>6</td>\n",
       "      <td>12</td>\n",
       "      <td>7.000000</td>\n",
       "      <td>...</td>\n",
       "      <td>married</td>\n",
       "      <td>49620</td>\n",
       "      <td>Midwest</td>\n",
       "      <td>148</td>\n",
       "      <td>Regular Activity</td>\n",
       "      <td>3</td>\n",
       "      <td>Low Income</td>\n",
       "      <td>NaN</td>\n",
       "      <td>Has Dependent</td>\n",
       "      <td>bulk</td>\n",
       "    </tr>\n",
       "  </tbody>\n",
       "</table>\n",
       "<p>5 rows × 36 columns</p>\n",
       "</div>"
      ],
      "text/plain": [
       "   product_id                product_name  department_id  prices  order_id  \\\n",
       "0           1  Chocolate Sandwich Cookies             19     5.8   3139998   \n",
       "1           1  Chocolate Sandwich Cookies             19     5.8   1977647   \n",
       "2         907        Premium Sliced Bacon             12    20.0   3160996   \n",
       "3         907        Premium Sliced Bacon             12    20.0   2254091   \n",
       "4        1000                    Apricots             10    12.9    505689   \n",
       "\n",
       "  customer_id  order_number  orders_day_of_week  order_hour_of_day  \\\n",
       "0         138            28                   6                 11   \n",
       "1         138            30                   6                 17   \n",
       "2         138             1                   5                 13   \n",
       "3         138            10                   5                 14   \n",
       "4         138             9                   6                 12   \n",
       "\n",
       "   days_since_prior_order  ...  marital_status  income   Region Total_orders  \\\n",
       "0                3.000000  ...         married   49620  Midwest          148   \n",
       "1               20.000000  ...         married   49620  Midwest          148   \n",
       "2                1.110352  ...         married   49620  Midwest          148   \n",
       "3                6.000000  ...         married   49620  Midwest          148   \n",
       "4                7.000000  ...         married   49620  Midwest          148   \n",
       "\n",
       "      Activity_flag  age_range income_flag  Income_flag dependent_flag  \\\n",
       "0  Regular Activity          3  Low Income          NaN  Has Dependent   \n",
       "1  Regular Activity          3  Low Income          NaN  Has Dependent   \n",
       "2  Regular Activity          3  Low Income          NaN  Has Dependent   \n",
       "3  Regular Activity          3  Low Income          NaN  Has Dependent   \n",
       "4  Regular Activity          3  Low Income          NaN  Has Dependent   \n",
       "\n",
       "     department  \n",
       "0        snacks  \n",
       "1        snacks  \n",
       "2  meat seafood  \n",
       "3  meat seafood  \n",
       "4          bulk  \n",
       "\n",
       "[5 rows x 36 columns]"
      ]
     },
     "execution_count": 20,
     "metadata": {},
     "output_type": "execute_result"
    }
   ],
   "source": [
    "# Map  department names to department id in dataframe\n",
    "\n",
    "df3['department'] = df3['department_id'].map(data_dict)\n",
    "df3.head()"
   ]
  },
  {
   "cell_type": "code",
   "execution_count": 21,
   "id": "666e7214",
   "metadata": {},
   "outputs": [],
   "source": [
    "# Create subset for customers who have purchased pet products\n",
    "\n",
    "pet_parents=df3.loc[df3['department']=='pets']"
   ]
  },
  {
   "cell_type": "code",
   "execution_count": 22,
   "id": "f6e9ecb1",
   "metadata": {},
   "outputs": [
    {
     "data": {
      "text/html": [
       "<div>\n",
       "<style scoped>\n",
       "    .dataframe tbody tr th:only-of-type {\n",
       "        vertical-align: middle;\n",
       "    }\n",
       "\n",
       "    .dataframe tbody tr th {\n",
       "        vertical-align: top;\n",
       "    }\n",
       "\n",
       "    .dataframe thead th {\n",
       "        text-align: right;\n",
       "    }\n",
       "</style>\n",
       "<table border=\"1\" class=\"dataframe\">\n",
       "  <thead>\n",
       "    <tr style=\"text-align: right;\">\n",
       "      <th></th>\n",
       "      <th>product_id</th>\n",
       "      <th>product_name</th>\n",
       "      <th>department_id</th>\n",
       "      <th>prices</th>\n",
       "      <th>order_id</th>\n",
       "      <th>customer_id</th>\n",
       "      <th>order_number</th>\n",
       "      <th>orders_day_of_week</th>\n",
       "      <th>order_hour_of_day</th>\n",
       "      <th>days_since_prior_order</th>\n",
       "      <th>...</th>\n",
       "      <th>marital_status</th>\n",
       "      <th>income</th>\n",
       "      <th>Region</th>\n",
       "      <th>Total_orders</th>\n",
       "      <th>Activity_flag</th>\n",
       "      <th>age_range</th>\n",
       "      <th>income_flag</th>\n",
       "      <th>Income_flag</th>\n",
       "      <th>dependent_flag</th>\n",
       "      <th>department</th>\n",
       "    </tr>\n",
       "  </thead>\n",
       "  <tbody>\n",
       "    <tr>\n",
       "      <th>262</th>\n",
       "      <td>24321</td>\n",
       "      <td>Mini's Flavor Dog Snacks</td>\n",
       "      <td>8</td>\n",
       "      <td>8.2</td>\n",
       "      <td>2322397</td>\n",
       "      <td>709</td>\n",
       "      <td>5</td>\n",
       "      <td>1</td>\n",
       "      <td>21</td>\n",
       "      <td>8.0</td>\n",
       "      <td>...</td>\n",
       "      <td>married</td>\n",
       "      <td>158302</td>\n",
       "      <td>Northeast</td>\n",
       "      <td>192</td>\n",
       "      <td>Regular Activity</td>\n",
       "      <td>3</td>\n",
       "      <td>High Income</td>\n",
       "      <td>NaN</td>\n",
       "      <td>Has Dependent</td>\n",
       "      <td>pets</td>\n",
       "    </tr>\n",
       "    <tr>\n",
       "      <th>315</th>\n",
       "      <td>40403</td>\n",
       "      <td>Fancy Feast Seafood Feast Variety Classic Wet ...</td>\n",
       "      <td>8</td>\n",
       "      <td>6.3</td>\n",
       "      <td>1331431</td>\n",
       "      <td>709</td>\n",
       "      <td>3</td>\n",
       "      <td>6</td>\n",
       "      <td>15</td>\n",
       "      <td>6.0</td>\n",
       "      <td>...</td>\n",
       "      <td>married</td>\n",
       "      <td>158302</td>\n",
       "      <td>Northeast</td>\n",
       "      <td>192</td>\n",
       "      <td>Regular Activity</td>\n",
       "      <td>3</td>\n",
       "      <td>High Income</td>\n",
       "      <td>NaN</td>\n",
       "      <td>Has Dependent</td>\n",
       "      <td>pets</td>\n",
       "    </tr>\n",
       "    <tr>\n",
       "      <th>14144</th>\n",
       "      <td>12793</td>\n",
       "      <td>Canine Cuisine Gourmet Filet Mignon New York S...</td>\n",
       "      <td>8</td>\n",
       "      <td>2.6</td>\n",
       "      <td>2719241</td>\n",
       "      <td>23513</td>\n",
       "      <td>17</td>\n",
       "      <td>0</td>\n",
       "      <td>7</td>\n",
       "      <td>7.0</td>\n",
       "      <td>...</td>\n",
       "      <td>married</td>\n",
       "      <td>55044</td>\n",
       "      <td>West</td>\n",
       "      <td>385</td>\n",
       "      <td>Regular Activity</td>\n",
       "      <td>2</td>\n",
       "      <td>Middle Income</td>\n",
       "      <td>Middle Income</td>\n",
       "      <td>Has Dependent</td>\n",
       "      <td>pets</td>\n",
       "    </tr>\n",
       "    <tr>\n",
       "      <th>17019</th>\n",
       "      <td>5743</td>\n",
       "      <td>ProActive Health Large Breed Adult Dog Food</td>\n",
       "      <td>8</td>\n",
       "      <td>1.1</td>\n",
       "      <td>3162880</td>\n",
       "      <td>29911</td>\n",
       "      <td>4</td>\n",
       "      <td>4</td>\n",
       "      <td>16</td>\n",
       "      <td>3.0</td>\n",
       "      <td>...</td>\n",
       "      <td>divorced/widowed</td>\n",
       "      <td>135803</td>\n",
       "      <td>Northeast</td>\n",
       "      <td>57</td>\n",
       "      <td>Regular Activity</td>\n",
       "      <td>3</td>\n",
       "      <td>High Income</td>\n",
       "      <td>NaN</td>\n",
       "      <td>No Dependents</td>\n",
       "      <td>pets</td>\n",
       "    </tr>\n",
       "    <tr>\n",
       "      <th>20931</th>\n",
       "      <td>3939</td>\n",
       "      <td>MarroBone Real Beef Flavor Dog Care &amp; Treats</td>\n",
       "      <td>8</td>\n",
       "      <td>6.1</td>\n",
       "      <td>753238</td>\n",
       "      <td>38457</td>\n",
       "      <td>21</td>\n",
       "      <td>3</td>\n",
       "      <td>8</td>\n",
       "      <td>1.0</td>\n",
       "      <td>...</td>\n",
       "      <td>married</td>\n",
       "      <td>118718</td>\n",
       "      <td>West</td>\n",
       "      <td>249</td>\n",
       "      <td>Regular Activity</td>\n",
       "      <td>2</td>\n",
       "      <td>Middle Income</td>\n",
       "      <td>Middle Income</td>\n",
       "      <td>Has Dependent</td>\n",
       "      <td>pets</td>\n",
       "    </tr>\n",
       "  </tbody>\n",
       "</table>\n",
       "<p>5 rows × 36 columns</p>\n",
       "</div>"
      ],
      "text/plain": [
       "       product_id                                       product_name  \\\n",
       "262         24321                           Mini's Flavor Dog Snacks   \n",
       "315         40403  Fancy Feast Seafood Feast Variety Classic Wet ...   \n",
       "14144       12793  Canine Cuisine Gourmet Filet Mignon New York S...   \n",
       "17019        5743        ProActive Health Large Breed Adult Dog Food   \n",
       "20931        3939       MarroBone Real Beef Flavor Dog Care & Treats   \n",
       "\n",
       "       department_id  prices  order_id customer_id  order_number  \\\n",
       "262                8     8.2   2322397         709             5   \n",
       "315                8     6.3   1331431         709             3   \n",
       "14144              8     2.6   2719241       23513            17   \n",
       "17019              8     1.1   3162880       29911             4   \n",
       "20931              8     6.1    753238       38457            21   \n",
       "\n",
       "       orders_day_of_week  order_hour_of_day  days_since_prior_order  ...  \\\n",
       "262                     1                 21                     8.0  ...   \n",
       "315                     6                 15                     6.0  ...   \n",
       "14144                   0                  7                     7.0  ...   \n",
       "17019                   4                 16                     3.0  ...   \n",
       "20931                   3                  8                     1.0  ...   \n",
       "\n",
       "         marital_status  income     Region Total_orders     Activity_flag  \\\n",
       "262             married  158302  Northeast          192  Regular Activity   \n",
       "315             married  158302  Northeast          192  Regular Activity   \n",
       "14144           married   55044       West          385  Regular Activity   \n",
       "17019  divorced/widowed  135803  Northeast           57  Regular Activity   \n",
       "20931           married  118718       West          249  Regular Activity   \n",
       "\n",
       "       age_range    income_flag    Income_flag dependent_flag  department  \n",
       "262            3    High Income            NaN  Has Dependent        pets  \n",
       "315            3    High Income            NaN  Has Dependent        pets  \n",
       "14144          2  Middle Income  Middle Income  Has Dependent        pets  \n",
       "17019          3    High Income            NaN  No Dependents        pets  \n",
       "20931          2  Middle Income  Middle Income  Has Dependent        pets  \n",
       "\n",
       "[5 rows x 36 columns]"
      ]
     },
     "execution_count": 22,
     "metadata": {},
     "output_type": "execute_result"
    }
   ],
   "source": [
    "pet_parents.head()"
   ]
  },
  {
   "cell_type": "code",
   "execution_count": 23,
   "id": "87004052",
   "metadata": {},
   "outputs": [
    {
     "data": {
      "text/html": [
       "<div>\n",
       "<style scoped>\n",
       "    .dataframe tbody tr th:only-of-type {\n",
       "        vertical-align: middle;\n",
       "    }\n",
       "\n",
       "    .dataframe tbody tr th {\n",
       "        vertical-align: top;\n",
       "    }\n",
       "\n",
       "    .dataframe thead tr th {\n",
       "        text-align: left;\n",
       "    }\n",
       "\n",
       "    .dataframe thead tr:last-of-type th {\n",
       "        text-align: right;\n",
       "    }\n",
       "</style>\n",
       "<table border=\"1\" class=\"dataframe\">\n",
       "  <thead>\n",
       "    <tr>\n",
       "      <th></th>\n",
       "      <th colspan=\"3\" halign=\"left\">prices</th>\n",
       "    </tr>\n",
       "    <tr>\n",
       "      <th></th>\n",
       "      <th>mean</th>\n",
       "      <th>min</th>\n",
       "      <th>max</th>\n",
       "    </tr>\n",
       "    <tr>\n",
       "      <th>department</th>\n",
       "      <th></th>\n",
       "      <th></th>\n",
       "      <th></th>\n",
       "    </tr>\n",
       "  </thead>\n",
       "  <tbody>\n",
       "    <tr>\n",
       "      <th>pets</th>\n",
       "      <td>7.889181</td>\n",
       "      <td>1.0</td>\n",
       "      <td>15.0</td>\n",
       "    </tr>\n",
       "  </tbody>\n",
       "</table>\n",
       "</div>"
      ],
      "text/plain": [
       "              prices           \n",
       "                mean  min   max\n",
       "department                     \n",
       "pets        7.889181  1.0  15.0"
      ]
     },
     "execution_count": 23,
     "metadata": {},
     "output_type": "execute_result"
    }
   ],
   "source": [
    "# aggregating for pet parent expenditure\n",
    "\n",
    "pet_parents.groupby('department').agg({'prices': ['mean', 'min', 'max']})"
   ]
  },
  {
   "cell_type": "code",
   "execution_count": 24,
   "id": "daafa9ba",
   "metadata": {},
   "outputs": [],
   "source": [
    "# Create subset for customers who have purchased baby products\n",
    "\n",
    "parents=df3.loc[df3['department']=='babies']"
   ]
  },
  {
   "cell_type": "code",
   "execution_count": 25,
   "id": "790a98ee",
   "metadata": {},
   "outputs": [
    {
     "data": {
      "text/html": [
       "<div>\n",
       "<style scoped>\n",
       "    .dataframe tbody tr th:only-of-type {\n",
       "        vertical-align: middle;\n",
       "    }\n",
       "\n",
       "    .dataframe tbody tr th {\n",
       "        vertical-align: top;\n",
       "    }\n",
       "\n",
       "    .dataframe thead th {\n",
       "        text-align: right;\n",
       "    }\n",
       "</style>\n",
       "<table border=\"1\" class=\"dataframe\">\n",
       "  <thead>\n",
       "    <tr style=\"text-align: right;\">\n",
       "      <th></th>\n",
       "      <th>product_id</th>\n",
       "      <th>product_name</th>\n",
       "      <th>department_id</th>\n",
       "      <th>prices</th>\n",
       "      <th>order_id</th>\n",
       "      <th>customer_id</th>\n",
       "      <th>order_number</th>\n",
       "      <th>orders_day_of_week</th>\n",
       "      <th>order_hour_of_day</th>\n",
       "      <th>days_since_prior_order</th>\n",
       "      <th>...</th>\n",
       "      <th>marital_status</th>\n",
       "      <th>income</th>\n",
       "      <th>Region</th>\n",
       "      <th>Total_orders</th>\n",
       "      <th>Activity_flag</th>\n",
       "      <th>age_range</th>\n",
       "      <th>income_flag</th>\n",
       "      <th>Income_flag</th>\n",
       "      <th>dependent_flag</th>\n",
       "      <th>department</th>\n",
       "    </tr>\n",
       "  </thead>\n",
       "  <tbody>\n",
       "    <tr>\n",
       "      <th>8279</th>\n",
       "      <td>9356</td>\n",
       "      <td>Swaddlers Size 2 Diapers</td>\n",
       "      <td>18</td>\n",
       "      <td>12.1</td>\n",
       "      <td>984114</td>\n",
       "      <td>15954</td>\n",
       "      <td>5</td>\n",
       "      <td>0</td>\n",
       "      <td>20</td>\n",
       "      <td>22.0</td>\n",
       "      <td>...</td>\n",
       "      <td>married</td>\n",
       "      <td>149863</td>\n",
       "      <td>Midwest</td>\n",
       "      <td>68</td>\n",
       "      <td>Regular Activity</td>\n",
       "      <td>3</td>\n",
       "      <td>High Income</td>\n",
       "      <td>NaN</td>\n",
       "      <td>Has Dependent</td>\n",
       "      <td>babies</td>\n",
       "    </tr>\n",
       "    <tr>\n",
       "      <th>21729</th>\n",
       "      <td>6042</td>\n",
       "      <td>No More Tangles Leave-in Conditioner</td>\n",
       "      <td>18</td>\n",
       "      <td>4.2</td>\n",
       "      <td>2360653</td>\n",
       "      <td>39145</td>\n",
       "      <td>5</td>\n",
       "      <td>0</td>\n",
       "      <td>17</td>\n",
       "      <td>0.0</td>\n",
       "      <td>...</td>\n",
       "      <td>married</td>\n",
       "      <td>47143</td>\n",
       "      <td>South</td>\n",
       "      <td>215</td>\n",
       "      <td>Regular Activity</td>\n",
       "      <td>1</td>\n",
       "      <td>Low Income</td>\n",
       "      <td>NaN</td>\n",
       "      <td>Has Dependent</td>\n",
       "      <td>babies</td>\n",
       "    </tr>\n",
       "    <tr>\n",
       "      <th>26835</th>\n",
       "      <td>18334</td>\n",
       "      <td>Baby Oil</td>\n",
       "      <td>18</td>\n",
       "      <td>9.4</td>\n",
       "      <td>3011132</td>\n",
       "      <td>50640</td>\n",
       "      <td>5</td>\n",
       "      <td>6</td>\n",
       "      <td>6</td>\n",
       "      <td>10.0</td>\n",
       "      <td>...</td>\n",
       "      <td>single</td>\n",
       "      <td>84195</td>\n",
       "      <td>West</td>\n",
       "      <td>311</td>\n",
       "      <td>Regular Activity</td>\n",
       "      <td>1</td>\n",
       "      <td>Middle Income</td>\n",
       "      <td>Middle Income</td>\n",
       "      <td>No Dependents</td>\n",
       "      <td>babies</td>\n",
       "    </tr>\n",
       "    <tr>\n",
       "      <th>26836</th>\n",
       "      <td>18334</td>\n",
       "      <td>Baby Oil</td>\n",
       "      <td>18</td>\n",
       "      <td>9.4</td>\n",
       "      <td>1234307</td>\n",
       "      <td>50640</td>\n",
       "      <td>14</td>\n",
       "      <td>3</td>\n",
       "      <td>13</td>\n",
       "      <td>9.0</td>\n",
       "      <td>...</td>\n",
       "      <td>single</td>\n",
       "      <td>84195</td>\n",
       "      <td>West</td>\n",
       "      <td>311</td>\n",
       "      <td>Regular Activity</td>\n",
       "      <td>1</td>\n",
       "      <td>Middle Income</td>\n",
       "      <td>Middle Income</td>\n",
       "      <td>No Dependents</td>\n",
       "      <td>babies</td>\n",
       "    </tr>\n",
       "    <tr>\n",
       "      <th>26837</th>\n",
       "      <td>18334</td>\n",
       "      <td>Baby Oil</td>\n",
       "      <td>18</td>\n",
       "      <td>9.4</td>\n",
       "      <td>379257</td>\n",
       "      <td>50640</td>\n",
       "      <td>24</td>\n",
       "      <td>0</td>\n",
       "      <td>13</td>\n",
       "      <td>8.0</td>\n",
       "      <td>...</td>\n",
       "      <td>single</td>\n",
       "      <td>84195</td>\n",
       "      <td>West</td>\n",
       "      <td>311</td>\n",
       "      <td>Regular Activity</td>\n",
       "      <td>1</td>\n",
       "      <td>Middle Income</td>\n",
       "      <td>Middle Income</td>\n",
       "      <td>No Dependents</td>\n",
       "      <td>babies</td>\n",
       "    </tr>\n",
       "  </tbody>\n",
       "</table>\n",
       "<p>5 rows × 36 columns</p>\n",
       "</div>"
      ],
      "text/plain": [
       "       product_id                          product_name  department_id  \\\n",
       "8279         9356              Swaddlers Size 2 Diapers             18   \n",
       "21729        6042  No More Tangles Leave-in Conditioner             18   \n",
       "26835       18334                              Baby Oil             18   \n",
       "26836       18334                              Baby Oil             18   \n",
       "26837       18334                              Baby Oil             18   \n",
       "\n",
       "       prices  order_id customer_id  order_number  orders_day_of_week  \\\n",
       "8279     12.1    984114       15954             5                   0   \n",
       "21729     4.2   2360653       39145             5                   0   \n",
       "26835     9.4   3011132       50640             5                   6   \n",
       "26836     9.4   1234307       50640            14                   3   \n",
       "26837     9.4    379257       50640            24                   0   \n",
       "\n",
       "       order_hour_of_day  days_since_prior_order  ...  marital_status  income  \\\n",
       "8279                  20                    22.0  ...         married  149863   \n",
       "21729                 17                     0.0  ...         married   47143   \n",
       "26835                  6                    10.0  ...          single   84195   \n",
       "26836                 13                     9.0  ...          single   84195   \n",
       "26837                 13                     8.0  ...          single   84195   \n",
       "\n",
       "        Region Total_orders     Activity_flag  age_range    income_flag  \\\n",
       "8279   Midwest           68  Regular Activity          3    High Income   \n",
       "21729    South          215  Regular Activity          1     Low Income   \n",
       "26835     West          311  Regular Activity          1  Middle Income   \n",
       "26836     West          311  Regular Activity          1  Middle Income   \n",
       "26837     West          311  Regular Activity          1  Middle Income   \n",
       "\n",
       "         Income_flag dependent_flag  department  \n",
       "8279             NaN  Has Dependent      babies  \n",
       "21729            NaN  Has Dependent      babies  \n",
       "26835  Middle Income  No Dependents      babies  \n",
       "26836  Middle Income  No Dependents      babies  \n",
       "26837  Middle Income  No Dependents      babies  \n",
       "\n",
       "[5 rows x 36 columns]"
      ]
     },
     "execution_count": 25,
     "metadata": {},
     "output_type": "execute_result"
    }
   ],
   "source": [
    "parents.head()"
   ]
  },
  {
   "cell_type": "code",
   "execution_count": 26,
   "id": "6733e878",
   "metadata": {},
   "outputs": [
    {
     "data": {
      "text/html": [
       "<div>\n",
       "<style scoped>\n",
       "    .dataframe tbody tr th:only-of-type {\n",
       "        vertical-align: middle;\n",
       "    }\n",
       "\n",
       "    .dataframe tbody tr th {\n",
       "        vertical-align: top;\n",
       "    }\n",
       "\n",
       "    .dataframe thead tr th {\n",
       "        text-align: left;\n",
       "    }\n",
       "\n",
       "    .dataframe thead tr:last-of-type th {\n",
       "        text-align: right;\n",
       "    }\n",
       "</style>\n",
       "<table border=\"1\" class=\"dataframe\">\n",
       "  <thead>\n",
       "    <tr>\n",
       "      <th></th>\n",
       "      <th colspan=\"3\" halign=\"left\">prices</th>\n",
       "    </tr>\n",
       "    <tr>\n",
       "      <th></th>\n",
       "      <th>mean</th>\n",
       "      <th>min</th>\n",
       "      <th>max</th>\n",
       "    </tr>\n",
       "    <tr>\n",
       "      <th>department</th>\n",
       "      <th></th>\n",
       "      <th></th>\n",
       "      <th></th>\n",
       "    </tr>\n",
       "  </thead>\n",
       "  <tbody>\n",
       "    <tr>\n",
       "      <th>babies</th>\n",
       "      <td>7.638374</td>\n",
       "      <td>1.0</td>\n",
       "      <td>15.0</td>\n",
       "    </tr>\n",
       "  </tbody>\n",
       "</table>\n",
       "</div>"
      ],
      "text/plain": [
       "              prices           \n",
       "                mean  min   max\n",
       "department                     \n",
       "babies      7.638374  1.0  15.0"
      ]
     },
     "execution_count": 26,
     "metadata": {},
     "output_type": "execute_result"
    }
   ],
   "source": [
    "#aggregating for parent expenditure\n",
    "\n",
    "parents.groupby('department').agg({'prices': ['mean', 'min', 'max']})"
   ]
  },
  {
   "cell_type": "code",
   "execution_count": 27,
   "id": "2c767373",
   "metadata": {},
   "outputs": [
    {
     "data": {
      "text/html": [
       "<div>\n",
       "<style scoped>\n",
       "    .dataframe tbody tr th:only-of-type {\n",
       "        vertical-align: middle;\n",
       "    }\n",
       "\n",
       "    .dataframe tbody tr th {\n",
       "        vertical-align: top;\n",
       "    }\n",
       "\n",
       "    .dataframe thead th {\n",
       "        text-align: right;\n",
       "    }\n",
       "</style>\n",
       "<table border=\"1\" class=\"dataframe\">\n",
       "  <thead>\n",
       "    <tr style=\"text-align: right;\">\n",
       "      <th></th>\n",
       "      <th>prices</th>\n",
       "    </tr>\n",
       "    <tr>\n",
       "      <th>department</th>\n",
       "      <th></th>\n",
       "    </tr>\n",
       "  </thead>\n",
       "  <tbody>\n",
       "    <tr>\n",
       "      <th>dairy eggs</th>\n",
       "      <td>1.806446e+08</td>\n",
       "    </tr>\n",
       "    <tr>\n",
       "      <th>produce</th>\n",
       "      <td>7.565692e+07</td>\n",
       "    </tr>\n",
       "    <tr>\n",
       "      <th>beverages</th>\n",
       "      <td>2.064114e+07</td>\n",
       "    </tr>\n",
       "    <tr>\n",
       "      <th>frozen</th>\n",
       "      <td>1.728779e+07</td>\n",
       "    </tr>\n",
       "    <tr>\n",
       "      <th>pantry</th>\n",
       "      <td>1.501939e+07</td>\n",
       "    </tr>\n",
       "    <tr>\n",
       "      <th>snacks</th>\n",
       "      <td>1.234440e+07</td>\n",
       "    </tr>\n",
       "    <tr>\n",
       "      <th>meat seafood</th>\n",
       "      <td>1.155080e+07</td>\n",
       "    </tr>\n",
       "    <tr>\n",
       "      <th>bakery</th>\n",
       "      <td>9.207464e+06</td>\n",
       "    </tr>\n",
       "    <tr>\n",
       "      <th>deli</th>\n",
       "      <td>8.176976e+06</td>\n",
       "    </tr>\n",
       "    <tr>\n",
       "      <th>canned goods</th>\n",
       "      <td>8.052882e+06</td>\n",
       "    </tr>\n",
       "    <tr>\n",
       "      <th>dry goods pasta</th>\n",
       "      <td>6.369833e+06</td>\n",
       "    </tr>\n",
       "    <tr>\n",
       "      <th>breakfast</th>\n",
       "      <td>5.651624e+06</td>\n",
       "    </tr>\n",
       "    <tr>\n",
       "      <th>household</th>\n",
       "      <td>5.452990e+06</td>\n",
       "    </tr>\n",
       "    <tr>\n",
       "      <th>personal care</th>\n",
       "      <td>3.578813e+06</td>\n",
       "    </tr>\n",
       "    <tr>\n",
       "      <th>babies</th>\n",
       "      <td>3.237074e+06</td>\n",
       "    </tr>\n",
       "    <tr>\n",
       "      <th>international</th>\n",
       "      <td>2.068413e+06</td>\n",
       "    </tr>\n",
       "    <tr>\n",
       "      <th>alcohol</th>\n",
       "      <td>1.251593e+06</td>\n",
       "    </tr>\n",
       "    <tr>\n",
       "      <th>pets</th>\n",
       "      <td>7.708519e+05</td>\n",
       "    </tr>\n",
       "    <tr>\n",
       "      <th>missing</th>\n",
       "      <td>5.988210e+05</td>\n",
       "    </tr>\n",
       "    <tr>\n",
       "      <th>bulk</th>\n",
       "      <td>2.886240e+05</td>\n",
       "    </tr>\n",
       "    <tr>\n",
       "      <th>other</th>\n",
       "      <td>2.536617e+05</td>\n",
       "    </tr>\n",
       "  </tbody>\n",
       "</table>\n",
       "</div>"
      ],
      "text/plain": [
       "                       prices\n",
       "department                   \n",
       "dairy eggs       1.806446e+08\n",
       "produce          7.565692e+07\n",
       "beverages        2.064114e+07\n",
       "frozen           1.728779e+07\n",
       "pantry           1.501939e+07\n",
       "snacks           1.234440e+07\n",
       "meat seafood     1.155080e+07\n",
       "bakery           9.207464e+06\n",
       "deli             8.176976e+06\n",
       "canned goods     8.052882e+06\n",
       "dry goods pasta  6.369833e+06\n",
       "breakfast        5.651624e+06\n",
       "household        5.452990e+06\n",
       "personal care    3.578813e+06\n",
       "babies           3.237074e+06\n",
       "international    2.068413e+06\n",
       "alcohol          1.251593e+06\n",
       "pets             7.708519e+05\n",
       "missing          5.988210e+05\n",
       "bulk             2.886240e+05\n",
       "other            2.536617e+05"
      ]
     },
     "execution_count": 27,
     "metadata": {},
     "output_type": "execute_result"
    }
   ],
   "source": [
    "# checking what department customers spend the most in sales\n",
    "\n",
    "df3[['prices', 'department']].groupby('department').agg('sum').sort_values(by ='prices', ascending=False)"
   ]
  },
  {
   "cell_type": "markdown",
   "id": "06bdbe8b",
   "metadata": {},
   "source": [
    "Customers spent the most money on dairy and eggs and the least on the department labeled 'other'"
   ]
  },
  {
   "cell_type": "markdown",
   "id": "3166e32c",
   "metadata": {},
   "source": [
    "### Time of day breakdown\n",
    "- 12:00 am - 05:59 am = Early morning\n",
    "- 06:00 am - 11:59 pm = Morning\n",
    "- 12:00 pm - 04:59 pm = Afternoon\n",
    "- 05:00 pm - 08:59 pm = Evening\n",
    "- 08:59 pm - 11:59 pm = Night"
   ]
  },
  {
   "cell_type": "code",
   "execution_count": 29,
   "id": "14274352",
   "metadata": {},
   "outputs": [],
   "source": [
    "# Create a dataframe that lists just orders without any duplicates\n",
    "\n",
    "df_ord = df3.drop_duplicates(subset='order_id').copy()"
   ]
  },
  {
   "cell_type": "code",
   "execution_count": 30,
   "id": "2bb7d14b",
   "metadata": {},
   "outputs": [
    {
     "data": {
      "text/plain": [
       "(3212144, 36)"
      ]
     },
     "execution_count": 30,
     "metadata": {},
     "output_type": "execute_result"
    }
   ],
   "source": [
    "df_ord.shape"
   ]
  },
  {
   "cell_type": "code",
   "execution_count": 32,
   "id": "7e1698c4",
   "metadata": {},
   "outputs": [
    {
     "data": {
      "text/plain": [
       "Afternoon        1303937\n",
       "Morning          1066187\n",
       "Evening           614368\n",
       "Night             168428\n",
       "Early_morning      37878\n",
       "Name: time_of_day, dtype: int64"
      ]
     },
     "execution_count": 32,
     "metadata": {},
     "output_type": "execute_result"
    }
   ],
   "source": [
    "# Create list of break down of day\n",
    "\n",
    "df_ord.loc[(df_ord['order_hour_of_day'] > 0) & (df_ord['order_hour_of_day'] < 6), 'time_of_day'] = 'Early_morning'\n",
    "df_ord.loc[(df_ord['order_hour_of_day'] >= 6) & (df_ord['order_hour_of_day'] < 12), 'time_of_day'] = 'Morning'\n",
    "df_ord.loc[(df_ord['order_hour_of_day'] >= 12) & (df_ord['order_hour_of_day'] < 17), 'time_of_day'] = 'Afternoon'\n",
    "df_ord.loc[(df_ord['order_hour_of_day'] >= 17) & (df_ord['order_hour_of_day'] < 21), 'time_of_day'] = 'Evening'\n",
    "df_ord.loc[(df_ord['order_hour_of_day'] >= 21) & (df_ord['order_hour_of_day'] < 24), 'time_of_day'] = 'Night'\n",
    "df_ord['time_of_day'].value_counts()"
   ]
  },
  {
   "cell_type": "markdown",
   "id": "e0ace041",
   "metadata": {},
   "source": [
    "Most orders are places during the Afternoon between 12:00 pm - 04:59 pm. The slowest time of day is in the Early Morning between 12:00 am - 05:59 am."
   ]
  },
  {
   "cell_type": "markdown",
   "id": "78f126e5",
   "metadata": {},
   "source": [
    "## Additional visualizations and analysis"
   ]
  },
  {
   "cell_type": "code",
   "execution_count": 34,
   "id": "da9d4d4b",
   "metadata": {},
   "outputs": [
    {
     "data": {
      "image/png": "[encoded data removed]",
      "text/plain": [
       "<Figure size 432x288 with 1 Axes>"
      ]
     },
     "metadata": {
      "needs_background": "light"
     },
     "output_type": "display_data"
    }
   ],
   "source": [
    "# Create bar graph displaying time of day when most orders are placed\n",
    "\n",
    "time_of_day_orders=df_ord['time_of_day'].value_counts().sort_values().plot.bar(fontsize=20)"
   ]
  },
  {
   "cell_type": "markdown",
   "id": "ea4aa20c",
   "metadata": {},
   "source": [
    "The majority of orders are placed in the morning or afternoon hours between 6 am and 4:59 pm"
   ]
  },
  {
   "cell_type": "code",
   "execution_count": 35,
   "id": "2ddb3e9a",
   "metadata": {},
   "outputs": [
    {
     "data": {
      "image/png": "[encoded data removed]",
      "text/plain": [
       "<Figure size 432x288 with 1 Axes>"
      ]
     },
     "metadata": {
      "needs_background": "light"
     },
     "output_type": "display_data"
    }
   ],
   "source": [
    "#regional distribution of customers\n",
    "\n",
    "regional_bar=df3['Region'].value_counts().plot.bar(color='green', fontsize=20)"
   ]
  },
  {
   "cell_type": "markdown",
   "id": "a3a29783",
   "metadata": {},
   "source": [
    "The South has the most customers and the Northeast has the least"
   ]
  },
  {
   "cell_type": "code",
   "execution_count": 52,
   "id": "8fa229d6",
   "metadata": {},
   "outputs": [],
   "source": [
    "# 100% stacked bar chart for regional income distribution\n",
    "# creating crosstab for region and income flag\n",
    "\n",
    "income_region = pd.crosstab(index=df3['Region'], columns=df3['Income_flag'], normalize=\"index\")"
   ]
  },
  {
   "cell_type": "code",
   "execution_count": 53,
   "id": "4d0d1548",
   "metadata": {},
   "outputs": [],
   "source": [
    "# creating cross tab to display labels\n",
    "\n",
    "income_region_labels = pd.crosstab(index=df3['Region'],columns=df3['income_flag'])"
   ]
  },
  {
   "cell_type": "code",
   "execution_count": 60,
   "id": "4124d0b7",
   "metadata": {
    "scrolled": true
   },
   "outputs": [
    {
     "data": {
      "image/png": "[encoded data removed]",
      "text/plain": [
       "<Figure size 864x720 with 1 Axes>"
      ]
     },
     "metadata": {
      "needs_background": "light"
     },
     "output_type": "display_data"
    }
   ],
   "source": [
    "# plotting chart\n",
    "\n",
    "income_regional_dist=income_region.plot(kind='bar', stacked=True, color=['green','yellow','blue'], figsize=(12,10))\n",
    "plt.legend(loc=\"upper center\", ncol=4)\n",
    "plt.ylabel(\"proportion\")\n",
    "plt.xlabel(\"Region\")\n",
    "for n, y in enumerate([*income_region_labels.index.values]):\n",
    "    for (proportion, count, x_loc) in zip(income_region.loc[y],\n",
    "                                          income_region_labels.loc[y],\n",
    "                                          income_region.loc[y].cumsum()):\n",
    "        plt.text(y=(x_loc - proportion) + (proportion / 2),\n",
    "                 x=n - 0.11,\n",
    "                  s=f'{count}({np.round(proportion * 100, 1)}%)',\n",
    "                 color=\"black\",\n",
    "                 fontsize=12)"
   ]
  },
  {
   "cell_type": "code",
   "execution_count": 48,
   "id": "73d022d1",
   "metadata": {},
   "outputs": [
    {
     "data": {
      "image/png": "[encoded data removed]",
      "text/plain": [
       "<Figure size 432x288 with 1 Axes>"
      ]
     },
     "metadata": {
      "needs_background": "light"
     },
     "output_type": "display_data"
    }
   ],
   "source": [
    "#creating bar chart for orders made by each age group\n",
    "\n",
    "age_bar=df3['age_range'].value_counts().plot.bar(color='purple',fontsize=20)"
   ]
  },
  {
   "cell_type": "markdown",
   "id": "aa334f93",
   "metadata": {},
   "source": [
    "- Age range 1 = Young Adult  >= 18 & <35\n",
    "- Age range 2 = Adult >=35 & <60\n",
    "- Age range 3 = Senior >= 60"
   ]
  },
  {
   "cell_type": "markdown",
   "id": "875e80b1",
   "metadata": {},
   "source": [
    "Most customers are between 36 and 59 years old and fall into the \"Adult\" age range. The Senior age range of older than 60 accounts for the least amount of customers."
   ]
  },
  {
   "cell_type": "code",
   "execution_count": 50,
   "id": "35d3fae3",
   "metadata": {},
   "outputs": [
    {
     "data": {
      "image/png": "[encoded data removed]",
      "text/plain": [
       "<Figure size 432x288 with 1 Axes>"
      ]
     },
     "metadata": {
      "needs_background": "light"
     },
     "output_type": "display_data"
    }
   ],
   "source": [
    "#bar chart for orders made by each income group\n",
    "\n",
    "income_bar=df3['income_flag'].value_counts().sort_values().plot.barh(fontsize=20)"
   ]
  },
  {
   "cell_type": "markdown",
   "id": "5eae99f9",
   "metadata": {},
   "source": [
    "- Less than 50,000 = Low Income\n",
    "- Between 50,000 & 120,000 = Middle Income\n",
    "- Above 120,000 = High Income"
   ]
  },
  {
   "cell_type": "markdown",
   "id": "a1367139",
   "metadata": {},
   "source": [
    "Most customers fall within the middle income bracket"
   ]
  },
  {
   "cell_type": "code",
   "execution_count": 55,
   "id": "7b5ec207",
   "metadata": {},
   "outputs": [
    {
     "data": {
      "image/png": "[encoded data removed]",
      "text/plain": [
       "<Figure size 432x288 with 1 Axes>"
      ]
     },
     "metadata": {
      "needs_background": "light"
     },
     "output_type": "display_data"
    }
   ],
   "source": [
    "# stacked bar chart for age groups and income groups\n",
    "\n",
    "age_income_bar=df3.groupby('age_range')['income_flag'].value_counts().unstack().plot.bar(stacked=True, ylabel='counts',color=['green','yellow','blue'], fontsize=20)"
   ]
  },
  {
   "cell_type": "markdown",
   "id": "f2c41bf6",
   "metadata": {},
   "source": [
    "- Age range 1 = Young Adult >= 18 & <35\n",
    "- Age range 2 = Adult >=35 & <60\n",
    "- Age range 3 = Senior >= 60"
   ]
  },
  {
   "cell_type": "markdown",
   "id": "8f6103af",
   "metadata": {},
   "source": [
    "Young Adults have the most middle income customers and the least high income customers"
   ]
  },
  {
   "cell_type": "code",
   "execution_count": 58,
   "id": "c543adf8",
   "metadata": {},
   "outputs": [
    {
     "data": {
      "image/png": "[encoded data removed]",
      "text/plain": [
       "<Figure size 432x288 with 1 Axes>"
      ]
     },
     "metadata": {
      "needs_background": "light"
     },
     "output_type": "display_data"
    }
   ],
   "source": [
    "#bar chart showing the orders made by customers of each family status\n",
    "\n",
    "marital_bar=df3['marital_status'].value_counts().sort_values().plot.barh(color='green', fontsize=20)"
   ]
  },
  {
   "cell_type": "markdown",
   "id": "d5c139f6",
   "metadata": {},
   "source": [
    "Most purchases are made by customers that are married. The least are made by customers living with parents and siblings"
   ]
  },
  {
   "cell_type": "code",
   "execution_count": 59,
   "id": "c2cf563e",
   "metadata": {},
   "outputs": [
    {
     "data": {
      "image/png": "[encoded data removed]",
      "text/plain": [
       "<Figure size 432x288 with 1 Axes>"
      ]
     },
     "metadata": {
      "needs_background": "light"
     },
     "output_type": "display_data"
    }
   ],
   "source": [
    "#bar chart showing the amount of orders made by customers in each dependent flag\n",
    "\n",
    "dependent_bar=df3['dependent_flag'].value_counts().sort_values().plot.bar(color='purple', fontsize=20)"
   ]
  },
  {
   "cell_type": "markdown",
   "id": "b8bd0cc8",
   "metadata": {},
   "source": [
    "Most customers have dependents"
   ]
  },
  {
   "cell_type": "code",
   "execution_count": 77,
   "id": "b11f93d7",
   "metadata": {},
   "outputs": [],
   "source": [
    "#defining function to show labels on charts\n",
    "\n",
    "def show_values(axs, orient= \"v\", space=.01):\n",
    "         def _single(ax):\n",
    "            if orient == \"v\":\n",
    "                for p in ax.patches:\n",
    "                    _x = p.get_x() + p.get_width() / 2\n",
    "                    _y = p.get_y() + p.get_height() + (p.get_height()*0.01)\n",
    "                    value = '{:.1f}'.format(p.get_height())\n",
    "                    ax.text(_x, _y, value, ha= \"center\")\n",
    "            elif orient == \"h\":\n",
    "                              for p in ax.patches:  \n",
    "                                    _x = p.get_x() + p.get_width() + float(space)\n",
    "                                    _y = p.get_y() + p.get_height() - (p.get_height()*0.5)\n",
    "                                    value = '{:.1f}'.format(p.get_width())\n",
    "                                    ax.text(_x, _y, value, ha= \"left\")\n",
    "            if isinstance(axs, np.ndarray):\n",
    "                for idx, ax in np.ndenumerate(axs):\n",
    "                    _single(axs)\n",
    "            else:\n",
    "                    _single(axs)"
   ]
  },
  {
   "cell_type": "code",
   "execution_count": 78,
   "id": "7b2a9f71",
   "metadata": {},
   "outputs": [
    {
     "data": {
      "image/png": "[encoded data removed]",
      "text/plain": [
       "<Figure size 1008x864 with 1 Axes>"
      ]
     },
     "metadata": {
      "needs_background": "light"
     },
     "output_type": "display_data"
    }
   ],
   "source": [
    "# bar chart showing the orders made for each department\n",
    "\n",
    "department_bar=df3.department.value_counts().sort_values().plot(kind = 'barh', figsize=[14,12])\n",
    "show_values(department_bar, \"h\", space=0)"
   ]
  },
  {
   "cell_type": "markdown",
   "id": "5580c3f7",
   "metadata": {},
   "source": [
    "The most orders have been placed from the produce department and the least from the bulk department"
   ]
  },
  {
   "cell_type": "code",
   "execution_count": 80,
   "id": "740991a2",
   "metadata": {},
   "outputs": [],
   "source": [
    "# creating subset with userid and loyalty columns\n",
    "cust_loyalty=df3[['customer_id','loyalty_flag']]\n",
    "\n",
    "# removing duplicate values\n",
    "cust_loyalty_unique=cust_loyalty.drop_duplicates()"
   ]
  },
  {
   "cell_type": "code",
   "execution_count": 81,
   "id": "1a528cd9",
   "metadata": {},
   "outputs": [
    {
     "data": {
      "text/plain": [
       "New customer        111529\n",
       "Regular customer     76864\n",
       "Loyal Customer       17017\n",
       "Name: loyalty_flag, dtype: int64"
      ]
     },
     "execution_count": 81,
     "metadata": {},
     "output_type": "execute_result"
    }
   ],
   "source": [
    "cust_loyalty_unique['loyalty_flag'].value_counts()"
   ]
  },
  {
   "cell_type": "code",
   "execution_count": 83,
   "id": "a2b36cf9",
   "metadata": {},
   "outputs": [
    {
     "data": {
      "image/png": "[encoded data removed]",
      "text/plain": [
       "<Figure size 432x288 with 1 Axes>"
      ]
     },
     "metadata": {},
     "output_type": "display_data"
    }
   ],
   "source": [
    "# pie chart for loyalty flag\n",
    "labels = 'New customer', 'Regular customer', 'Loyal customer'\n",
    "sizes = cust_loyalty_unique['loyalty_flag'].value_counts()\n",
    "colors = ['yellow','blue','green']\n",
    "textprops = {\"fontsize\":25}\n",
    "\n",
    "loyal, ax = plt.subplots()\n",
    "ax.pie(sizes,labels=labels,colors=colors,autopct='%1.1f%%',\n",
    "        shadow=True, startangle=90,textprops=textprops)\n",
    "ax.axis('equal')\n",
    "plt.legend()\n",
    "plt.show()"
   ]
  },
  {
   "cell_type": "markdown",
   "id": "71b7e846",
   "metadata": {},
   "source": [
    "# Exporting Final Data Set & Visualizations"
   ]
  },
  {
   "cell_type": "code",
   "execution_count": 84,
   "id": "0bf3a419",
   "metadata": {},
   "outputs": [],
   "source": [
    "# exporting final dataset\n",
    "df3.to_pickle(os.path.join(path, '02 Data','Prepared Data', 'final_dataset.pkl'))"
   ]
  },
  {
   "cell_type": "code",
   "execution_count": 85,
   "id": "81300e35",
   "metadata": {},
   "outputs": [],
   "source": [
    "# export loyalty Pie Chart\n",
    "loyal.figure.savefig(os.path.join(path, '04 Analysis','Visualizations', 'loyal_dist_pie.png'))"
   ]
  },
  {
   "cell_type": "code",
   "execution_count": 86,
   "id": "de369343",
   "metadata": {},
   "outputs": [],
   "source": [
    "# export department bar chart\n",
    "department_bar.figure.savefig(os.path.join(path, '04 Analysis','Visualizations', 'department_bar.png'))"
   ]
  },
  {
   "cell_type": "code",
   "execution_count": 87,
   "id": "645ed61c",
   "metadata": {},
   "outputs": [],
   "source": [
    "# export bar chart showing the amount of orders made by customers in each dependent flag\n",
    "dependent_bar.figure.savefig(os.path.join(path, '04 Analysis','Visualizations', 'dependent_bar.png'))"
   ]
  },
  {
   "cell_type": "code",
   "execution_count": 88,
   "id": "6d2697f6",
   "metadata": {},
   "outputs": [],
   "source": [
    "# export bar chart showing the orders made by customers of each family status\n",
    "marital_bar.figure.savefig(os.path.join(path, '04 Analysis','Visualizations', 'marital_bar.png'))"
   ]
  },
  {
   "cell_type": "code",
   "execution_count": 89,
   "id": "7be8f873",
   "metadata": {},
   "outputs": [],
   "source": [
    "# export stacked bar chart for age groups and income groups\n",
    "age_income_bar.figure.savefig(os.path.join(path, '04 Analysis','Visualizations', 'age_income_stacked.png'))"
   ]
  },
  {
   "cell_type": "code",
   "execution_count": 90,
   "id": "e081bcd4",
   "metadata": {},
   "outputs": [],
   "source": [
    "# export bar chart for orders made by each income group\n",
    "income_bar.figure.savefig(os.path.join(path, '04 Analysis','Visualizations', 'income_bar.png'))"
   ]
  },
  {
   "cell_type": "code",
   "execution_count": 91,
   "id": "c19329fd",
   "metadata": {},
   "outputs": [],
   "source": [
    "# export bar chart for orders made by each age group\n",
    "age_bar.figure.savefig(os.path.join(path, '04 Analysis','Visualizations', 'age_bar.png'))"
   ]
  },
  {
   "cell_type": "code",
   "execution_count": 93,
   "id": "eb283d75",
   "metadata": {},
   "outputs": [],
   "source": [
    "# export stacked bar chart for income and region\n",
    "income_regional_dist.figure.savefig(os.path.join(path, '04 Analysis','Visualizations', 'income_regional_dist.png'))"
   ]
  },
  {
   "cell_type": "code",
   "execution_count": 94,
   "id": "136201e4",
   "metadata": {},
   "outputs": [],
   "source": [
    "# export regional distribution of customers\n",
    "regional_bar.figure.savefig(os.path.join(path, '04 Analysis','Visualizations', 'income_regional_dist.png'))"
   ]
  },
  {
   "cell_type": "code",
   "execution_count": 95,
   "id": "97ca3baf",
   "metadata": {},
   "outputs": [],
   "source": [
    "# export bar graph displaying time of day when most orders are placed\n",
    "time_of_day_orders.figure.savefig(os.path.join(path, '04 Analysis','Visualizations', 'time_of_day_orders.png'))"
   ]
  },
  {
   "cell_type": "code",
   "execution_count": null,
   "id": "3110d26f",
   "metadata": {},
   "outputs": [],
   "source": []
  }
 ],
 "metadata": {
  "kernelspec": {
   "display_name": "Python 3 (ipykernel)",
   "language": "python",
   "name": "python3"
  },
  "language_info": {
   "codemirror_mode": {
    "name": "ipython",
    "version": 3
   },
   "file_extension": ".py",
   "mimetype": "text/x-python",
   "name": "python",
   "nbconvert_exporter": "python",
   "pygments_lexer": "ipython3",
   "version": "3.9.12"
  }
 },
 "nbformat": 4,
 "nbformat_minor": 5
}
